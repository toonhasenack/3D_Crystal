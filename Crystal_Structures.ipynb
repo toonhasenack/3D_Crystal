{
 "cells": [
  {
   "cell_type": "code",
   "execution_count": 1,
   "metadata": {},
   "outputs": [],
   "source": [
    "from Crystal_Structures import *\n",
    "\n",
    "%load_ext autoreload\n",
    "%autoreload 2"
   ]
  },
  {
   "cell_type": "code",
   "execution_count": 2,
   "metadata": {},
   "outputs": [
    {
     "name": "stderr",
     "output_type": "stream",
     "text": [
      "  0%|                                                                                          | 0/264 [00:00<?, ?it/s]\n"
     ]
    },
    {
     "name": "stdout",
     "output_type": "stream",
     "text": [
      "[False False False False False False False False False False False False\n",
      " False False False False False False False False False False False False\n",
      " False False False False False False False False False False False False\n",
      " False False False False False False False False False False False False\n",
      " False False False False False False False False False False False False\n",
      " False False False False False False False False False False False False\n",
      " False False False False False False False False False False False False\n",
      " False False False False False False False False False False]\n"
     ]
    },
    {
     "ename": "ValueError",
     "evalue": "operands could not be broadcast together with shapes (94,3) (94,) ",
     "output_type": "error",
     "traceback": [
      "\u001b[1;31m---------------------------------------------------------------------------\u001b[0m",
      "\u001b[1;31mValueError\u001b[0m                                Traceback (most recent call last)",
      "Input \u001b[1;32mIn [2]\u001b[0m, in \u001b[0;36m<cell line: 15>\u001b[1;34m()\u001b[0m\n\u001b[0;32m     13\u001b[0m C\u001b[38;5;241m.\u001b[39mhollow()\n\u001b[0;32m     14\u001b[0m C\u001b[38;5;241m.\u001b[39mto_points()\n\u001b[1;32m---> 15\u001b[0m \u001b[43mC\u001b[49m\u001b[38;5;241;43m.\u001b[39;49m\u001b[43mtile\u001b[49m\u001b[43m(\u001b[49m\u001b[43m)\u001b[49m\n\u001b[0;32m     16\u001b[0m C\u001b[38;5;241m.\u001b[39mto_SCAD(\u001b[38;5;124m'\u001b[39m\u001b[38;5;124mtest\u001b[39m\u001b[38;5;124m'\u001b[39m)\n",
      "File \u001b[1;32mD:\\Documents\\Extra\\3D printer\\Crystal_Structures.py:110\u001b[0m, in \u001b[0;36mCrystal.tile\u001b[1;34m(self)\u001b[0m\n\u001b[0;32m    107\u001b[0m bm_direction \u001b[38;5;241m=\u001b[39m np\u001b[38;5;241m.\u001b[39msum(d1[:,[\u001b[38;5;241m1\u001b[39m,\u001b[38;5;241m2\u001b[39m]], axis \u001b[38;5;241m=\u001b[39m \u001b[38;5;241m1\u001b[39m) \u001b[38;5;241m==\u001b[39m \u001b[38;5;241m1\u001b[39m\n\u001b[0;32m    108\u001b[0m \u001b[38;5;28mprint\u001b[39m(bm_direction)\n\u001b[1;32m--> 110\u001b[0m keep_locs \u001b[38;5;241m=\u001b[39m np\u001b[38;5;241m.\u001b[39mwhere(\u001b[43mnp\u001b[49m\u001b[38;5;241;43m.\u001b[39;49m\u001b[43mlogical_and\u001b[49m\u001b[43m(\u001b[49m\u001b[43mnp\u001b[49m\u001b[38;5;241;43m.\u001b[39;49m\u001b[43mlogical_not\u001b[49m\u001b[43m(\u001b[49m\u001b[43mnp\u001b[49m\u001b[38;5;241;43m.\u001b[39;49m\u001b[43mlogical_or\u001b[49m\u001b[43m(\u001b[49m\u001b[43mbm_neg\u001b[49m\u001b[43m,\u001b[49m\u001b[43mbm_outside\u001b[49m\u001b[43m)\u001b[49m\u001b[43m)\u001b[49m\u001b[43m,\u001b[49m\u001b[43m \u001b[49m\u001b[43mnp\u001b[49m\u001b[38;5;241;43m.\u001b[39;49m\u001b[43mlogical_not\u001b[49m\u001b[43m(\u001b[49m\u001b[43mbm_direction\u001b[49m\u001b[43m)\u001b[49m\u001b[43m)\u001b[49m)[\u001b[38;5;241m0\u001b[39m]\n\u001b[0;32m    112\u001b[0m p1 \u001b[38;5;241m=\u001b[39m p1[keep_locs]\n\u001b[0;32m    113\u001b[0m p2 \u001b[38;5;241m=\u001b[39m p2[keep_locs]\n",
      "\u001b[1;31mValueError\u001b[0m: operands could not be broadcast together with shapes (94,3) (94,) "
     ]
    }
   ],
   "source": [
    "vertices = np.array([[0, 0, 1, 1, 0, 0, 1, 1, 1/4, 3/4, 1/4, 3/4, 1/2, 1/2, 1/2, 1/2, 0,   1],\\\n",
    "                     [0, 1, 1, 0, 0, 1, 1, 0, 1/4, 3/4, 3/4, 1/4, 1/2, 1/2, 0,   1,   1/2, 1/2],\\\n",
    "                     [0, 0, 0, 0, 1, 1, 1, 1, 1/4, 1/4, 3/4, 3/4, 0,   1,   1/2, 1/2, 1/2, 1/2]]).astype('float64')\n",
    "\n",
    "edges = np.array([[0,1],[1,2],[2,3],[3,0],[4,5],[5,6],[6,7],[7,4],[0,4],[1,5],[2,6],[3,7],[0,8],\\\n",
    "                  [2,9],[5,10],[7,11],[8,12],[8,14],[8,16],[9,12],[9,15],[9,17],[10,13],[10,15],[10,16],[11,13],[11,14],[11,17]]).astype('int32')\n",
    "\n",
    "vertices_resh = (vertices - 0.5)*0.75 + 0.5\n",
    "\n",
    "C = Crystal(vertices_resh, edges)\n",
    "C.make_grid(30)\n",
    "C.thicken(0.05)\n",
    "C.hollow()\n",
    "C.to_points()\n",
    "C.tile()\n",
    "C.to_SCAD('test')"
   ]
  },
  {
   "cell_type": "code",
   "execution_count": null,
   "metadata": {},
   "outputs": [],
   "source": []
  }
 ],
 "metadata": {
  "kernelspec": {
   "display_name": "Python 3 (ipykernel)",
   "language": "python",
   "name": "python3"
  },
  "language_info": {
   "codemirror_mode": {
    "name": "ipython",
    "version": 3
   },
   "file_extension": ".py",
   "mimetype": "text/x-python",
   "name": "python",
   "nbconvert_exporter": "python",
   "pygments_lexer": "ipython3",
   "version": "3.9.12"
  }
 },
 "nbformat": 4,
 "nbformat_minor": 4
}
